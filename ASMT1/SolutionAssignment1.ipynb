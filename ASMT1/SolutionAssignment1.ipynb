{
 "cells": [
  {
   "cell_type": "markdown",
   "metadata": {},
   "source": [
    "### Problem 1"
   ]
  },
  {
   "cell_type": "code",
   "execution_count": 1,
   "metadata": {},
   "outputs": [
    {
     "name": "stdout",
     "output_type": "stream",
     "text": [
      "5\n",
      "5 5 5 5 5 \n",
      "5 4 4 4 5 \n",
      "5 4 3 4 5 \n",
      "5 4 4 4 5 \n",
      "5 5 5 5 5 \n"
     ]
    }
   ],
   "source": [
    "n = int(input())\n",
    "for i in range(n):\n",
    "    for j in range(n):\n",
    "        print(max(i+1,n-i,j+1,n-j), end=\" \");\n",
    "    print('')"
   ]
  },
  {
   "cell_type": "code",
   "execution_count": 2,
   "metadata": {},
   "outputs": [
    {
     "name": "stdout",
     "output_type": "stream",
     "text": [
      "5\n"
     ]
    },
    {
     "data": {
      "text/plain": [
       "[[5, 5, 5, 5, 5],\n",
       " [5, 4, 4, 4, 5],\n",
       " [5, 4, 3, 4, 5],\n",
       " [5, 4, 4, 4, 5],\n",
       " [5, 5, 5, 5, 5]]"
      ]
     },
     "execution_count": 2,
     "metadata": {},
     "output_type": "execute_result"
    }
   ],
   "source": [
    "n = int(input())\n",
    "[[max(i+1,n-i,j+1,n-j) for j in range(n)] for i in range(n)]"
   ]
  },
  {
   "cell_type": "markdown",
   "metadata": {},
   "source": [
    "### Problem 2"
   ]
  },
  {
   "cell_type": "code",
   "execution_count": 3,
   "metadata": {},
   "outputs": [
    {
     "name": "stdout",
     "output_type": "stream",
     "text": [
      "5\n",
      "    *\n",
      "   ***\n",
      "  *****\n",
      " *******\n",
      "*********\n"
     ]
    }
   ],
   "source": [
    "n = int(input())\n",
    "for i in range(1,n+1):\n",
    "    print(' '*(n-i),'*'*(2*i-1),sep='')"
   ]
  },
  {
   "cell_type": "markdown",
   "metadata": {},
   "source": [
    "### Problem 3"
   ]
  },
  {
   "cell_type": "code",
   "execution_count": 4,
   "metadata": {},
   "outputs": [
    {
     "name": "stdout",
     "output_type": "stream",
     "text": [
      "5\n",
      "    A\n",
      "   ABA\n",
      "  ABCBA\n",
      " ABCDCBA\n",
      "ABCDEDCBA\n"
     ]
    }
   ],
   "source": [
    "n = int(input())\n",
    "S = 'ABCDEFGHIJKLMNOPQRSTUVWXYZ'\n",
    "for i in range(1,n+1):\n",
    "    print(' '*(n-i),S[0:i],''.join(reversed(S[0:i-1])), sep='')"
   ]
  },
  {
   "cell_type": "markdown",
   "metadata": {},
   "source": [
    "### Problem 4"
   ]
  },
  {
   "cell_type": "code",
   "execution_count": 5,
   "metadata": {},
   "outputs": [
    {
     "name": "stdout",
     "output_type": "stream",
     "text": [
      "The set is  ['A', 'B', 'C', 'D']\n",
      "Here n = 4 and k = 3. There will be 64 possible strings.\n",
      "['AAA', 'AAB', 'AAC', 'AAD', 'ABA', 'ABB', 'ABC', 'ABD', 'ACA', 'ACB', 'ACC', 'ACD', 'ADA', 'ADB', 'ADC', 'ADD', 'BAA', 'BAB', 'BAC', 'BAD', 'BBA', 'BBB', 'BBC', 'BBD', 'BCA', 'BCB', 'BCC', 'BCD', 'BDA', 'BDB', 'BDC', 'BDD', 'CAA', 'CAB', 'CAC', 'CAD', 'CBA', 'CBB', 'CBC', 'CBD', 'CCA', 'CCB', 'CCC', 'CCD', 'CDA', 'CDB', 'CDC', 'CDD', 'DAA', 'DAB', 'DAC', 'DAD', 'DBA', 'DBB', 'DBC', 'DBD', 'DCA', 'DCB', 'DCC', 'DCD', 'DDA', 'DDB', 'DDC', 'DDD']\n"
     ]
    }
   ],
   "source": [
    "myset = ['A','B','C','D']\n",
    "n = len(myset)\n",
    "k = 3\n",
    "sols = []\n",
    "def recurse(base, k):\n",
    "    if k==0:\n",
    "        sols.append(base)\n",
    "    else:\n",
    "        for i in range(n):\n",
    "            nbase = base + myset[i]\n",
    "            recurse(nbase, k-1)\n",
    "\n",
    "\n",
    "print('The set is ', myset)\n",
    "print('Here n = {} and k = {}. There will be {} possible strings.'.format(n,k,n**k))\n",
    "recurse(\"\", k)\n",
    "print(sols)"
   ]
  },
  {
   "cell_type": "markdown",
   "metadata": {},
   "source": [
    "### Problem 5"
   ]
  },
  {
   "cell_type": "code",
   "execution_count": 6,
   "metadata": {},
   "outputs": [
    {
     "name": "stdout",
     "output_type": "stream",
     "text": [
      "Do you want to enter the details of more students? (Y/N)Y\n",
      "Enter the roll no :1\n",
      "Enter the name :Harry Potter\n",
      "Enter the branch :Gryffindor\n",
      "Do you want to enter the details of more students? (Y/N)Y\n",
      "Enter the roll no :2\n",
      "Enter the name :Terry Boot\n",
      "Enter the branch :Ravenclaw\n",
      "Do you want to enter the details of more students? (Y/N)Y\n",
      "Enter the roll no :3\n",
      "Enter the name :Draco Malfoy\n",
      "Enter the branch :Slytherin\n",
      "Do you want to enter the details of more students? (Y/N)N\n"
     ]
    },
    {
     "data": {
      "text/plain": [
       "[{'roll_no': '1', 'name': 'Harry Potter', 'branch': 'Gryffindor'},\n",
       " {'roll_no': '2', 'name': 'Terry Boot', 'branch': 'Ravenclaw'},\n",
       " {'roll_no': '3', 'name': 'Draco Malfoy', 'branch': 'Slytherin'}]"
      ]
     },
     "execution_count": 6,
     "metadata": {},
     "output_type": "execute_result"
    }
   ],
   "source": [
    "record = []\n",
    "while True:\n",
    "    ch = input('Do you want to enter the details of more students? (Y/N)')\n",
    "    if ch=='Y':\n",
    "        dict = {}\n",
    "        dict['roll_no'] = input('Enter the roll no :')\n",
    "        dict['name'] = input('Enter the name :')\n",
    "        dict['branch'] = input('Enter the branch :')\n",
    "        record.append(dict)\n",
    "    else:\n",
    "        break\n",
    "        \n",
    "record"
   ]
  },
  {
   "cell_type": "markdown",
   "metadata": {},
   "source": [
    "### Problem 6"
   ]
  },
  {
   "cell_type": "code",
   "execution_count": 7,
   "metadata": {
    "scrolled": false
   },
   "outputs": [
    {
     "name": "stdout",
     "output_type": "stream",
     "text": [
      "Enter the list elements seperated by space :1 5 2 4 3 6\n",
      "The list with 6 elements is [1, 5, 2, 4, 3, 6]\n",
      "The second maximum number in the list is 5\n"
     ]
    }
   ],
   "source": [
    "ls = [int(x) for x in input('Enter the list elements seperated by space :').split()]\n",
    "n = len(ls)\n",
    "print('The list with {} elements is {}'.format(n,ls))\n",
    "print('The second maximum number in the list is {}'.format(sorted(ls)[-2]))"
   ]
  },
  {
   "cell_type": "markdown",
   "metadata": {},
   "source": [
    "### Problem 7"
   ]
  },
  {
   "cell_type": "code",
   "execution_count": 8,
   "metadata": {
    "scrolled": true
   },
   "outputs": [
    {
     "name": "stdout",
     "output_type": "stream",
     "text": [
      "Enter the path starting from the root directory (eg: 'C:\\Program Files\\Sublime Text 3'): C:\\Users\\SS\\Documents\\dummyfolder\n",
      "['insidedummy', 'newie.txt']\n"
     ]
    }
   ],
   "source": [
    "import os \n",
    "path = input('Enter the path starting from the root directory (eg: \\'C:\\Program Files\\Sublime Text 3\\'): ')\n",
    "print(os.listdir(path)) "
   ]
  },
  {
   "cell_type": "code",
   "execution_count": 10,
   "metadata": {},
   "outputs": [
    {
     "name": "stdout",
     "output_type": "stream",
     "text": [
      "Enter the path starting from the root directory (eg: 'C:\\Program Files\\Sublime Text 3'): C:\\Users\\SS\\Documents\\dummyfolder\n",
      "['insidedummy', 'newie.txt']\n",
      "Enter the old filename: newie.txt\n",
      "Enter the new filename: oldie.txt\n",
      "File renamed successfully.\n",
      "['insidedummy', 'oldie.txt']\n"
     ]
    }
   ],
   "source": [
    "path = input('Enter the path starting from the root directory (eg: \\'C:\\Program Files\\Sublime Text 3\\'): ')\n",
    "print(os.listdir(path)) \n",
    "old = input('Enter the old filename: ')\n",
    "new = input('Enter the new filename: ')\n",
    "os.rename(os.path.join(path,old),os.path.join(path,new))\n",
    "print('File renamed successfully.')\n",
    "print(os.listdir(path)) "
   ]
  },
  {
   "cell_type": "markdown",
   "metadata": {},
   "source": [
    "### Problem 8"
   ]
  },
  {
   "cell_type": "code",
   "execution_count": 12,
   "metadata": {},
   "outputs": [
    {
     "name": "stdout",
     "output_type": "stream",
     "text": [
      "A random number between 1 and 10 has been generated.\n",
      "Try to guess it: 6\n",
      "Wrong answer.\n",
      "Try to guess it: 5\n",
      "Wrong answer.\n",
      "Try to guess it: 4\n",
      "Wrong answer.\n",
      "Try to guess it: 7\n",
      "Wrong answer.\n",
      "Try to guess it: 3\n",
      "Wrong answer.\n",
      "Try to guess it: 8\n",
      "Wrong answer.\n",
      "Try to guess it: 2\n",
      "Wrong answer.\n",
      "Try to guess it: 9\n",
      "Wrong answer.\n",
      "Try to guess it: 10\n",
      "Correct answer. You guessed the answer in 9 steps.\n"
     ]
    }
   ],
   "source": [
    "import random\n",
    "to_guess = random.randint(1,10)\n",
    "print('A random number between 1 and 10 has been generated.')\n",
    "chances = 0\n",
    "while True:\n",
    "    chances+=1\n",
    "    guessed = int(input('Try to guess it: '))\n",
    "    if guessed == to_guess :\n",
    "        break\n",
    "    print('Wrong answer.')\n",
    "print('Correct answer. You guessed the answer in {} steps.'.format(chances))"
   ]
  },
  {
   "cell_type": "code",
   "execution_count": null,
   "metadata": {},
   "outputs": [],
   "source": []
  }
 ],
 "metadata": {
  "kernelspec": {
   "display_name": "Python 3",
   "language": "python",
   "name": "python3"
  },
  "language_info": {
   "codemirror_mode": {
    "name": "ipython",
    "version": 3
   },
   "file_extension": ".py",
   "mimetype": "text/x-python",
   "name": "python",
   "nbconvert_exporter": "python",
   "pygments_lexer": "ipython3",
   "version": "3.7.3"
  }
 },
 "nbformat": 4,
 "nbformat_minor": 2
}
