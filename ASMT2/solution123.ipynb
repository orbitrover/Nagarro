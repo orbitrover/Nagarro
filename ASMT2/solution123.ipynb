{
 "cells": [
  {
   "cell_type": "markdown",
   "metadata": {},
   "source": [
    "# Assignment 2"
   ]
  },
  {
   "cell_type": "markdown",
   "metadata": {},
   "source": [
    "### Problem 1"
   ]
  },
  {
   "cell_type": "code",
   "execution_count": 1,
   "metadata": {},
   "outputs": [],
   "source": [
    "import math\n",
    "class Circle:\n",
    "    def __init__(self, radius):\n",
    "        self.radius = radius\n",
    "        self.calculate_area()\n",
    "        self.calculate_perimeter()\n",
    "        print('Radius = {}, Perimeter = {}, Area = {}'.format(self.radius, self.perimeter, self.area ))\n",
    "        \n",
    "    def calculate_area(self):\n",
    "        self.area = (math.pi**2)*self.radius\n",
    "        \n",
    "    def calculate_perimeter(self):\n",
    "        self.perimeter = math.pi*self.radius*2\n",
    "\n",
    "    def __lt__(self, other):\n",
    "        return self.radius < other.radius \n",
    "    \n",
    "    def __le__(self, other):\n",
    "        return self.radius <= other.radius \n",
    "    \n",
    "    def __eq__(self, other):\n",
    "        return self.radius == other.radius \n",
    "    \n",
    "    def __ne__(self, other):\n",
    "        return self.radius != other.radius \n",
    "    \n",
    "    def __gt__(self, other):\n",
    "        return self.radius > other.radius \n",
    "    \n",
    "    def __ge__(self, other):\n",
    "        return self.radius >= other.radius "
   ]
  },
  {
   "cell_type": "code",
   "execution_count": 2,
   "metadata": {},
   "outputs": [
    {
     "name": "stdout",
     "output_type": "stream",
     "text": [
      "Radius = 5, Perimeter = 31.41592653589793, Area = 49.34802200544679\n",
      "Radius = 6, Perimeter = 37.69911184307752, Area = 59.21762640653615\n",
      "Radius = 6, Perimeter = 37.69911184307752, Area = 59.21762640653615\n",
      "Radius = 7, Perimeter = 43.982297150257104, Area = 69.0872308076255\n",
      "a<b = True\n",
      "a>b = False\n",
      "b==c = True\n",
      "c==d = False\n",
      "c!=d = True\n",
      "b!=c = False\n",
      "a<=c = True\n",
      "b<=c = True\n",
      "b>=c = True\n",
      "d>=c = True\n"
     ]
    }
   ],
   "source": [
    "a,b,c,d = Circle(5), Circle(6), Circle(6), Circle(7)\n",
    "print(\"a<b =\", a<b)\n",
    "print(\"a>b =\", a>b)\n",
    "print(\"b==c =\", b==c)\n",
    "print(\"c==d =\", c==d)\n",
    "print(\"c!=d =\", c!=d)\n",
    "print(\"b!=c =\", b!=c)\n",
    "print(\"a<=c =\", a<=c)\n",
    "print(\"b<=c =\", b<=c)\n",
    "print(\"b>=c =\", b>=c)\n",
    "print(\"d>=c =\", d>=c)"
   ]
  },
  {
   "cell_type": "markdown",
   "metadata": {},
   "source": [
    "### Problem 2"
   ]
  },
  {
   "cell_type": "code",
   "execution_count": 3,
   "metadata": {},
   "outputs": [
    {
     "name": "stdout",
     "output_type": "stream",
     "text": [
      "The list generated is \n",
      " ['Lorem', 'Ipsum', 'is', 'simply', 'dummy', 'text', 'of', 'the', 'printing', 'and', 'typesetting', 'industry.', 'Lorem', 'Ipsum', 'has', 'been', 'the', \"industry's\", 'standard', 'dummy', 'text', 'ever', 'since', 'the', '1500s,', 'when', 'an', 'unknown', 'printer', 'took', 'a', 'galley', 'of', 'type', 'and', 'scrambled', 'it', 'to', 'make', 'a', 'type', 'specimen', 'book.']\n",
      "\n",
      "The list converted to uppercase is \n",
      " ['LOREM', 'IPSUM', 'IS', 'SIMPLY', 'DUMMY', 'TEXT', 'OF', 'THE', 'PRINTING', 'AND', 'TYPESETTING', 'INDUSTRY.', 'LOREM', 'IPSUM', 'HAS', 'BEEN', 'THE', \"INDUSTRY'S\", 'STANDARD', 'DUMMY', 'TEXT', 'EVER', 'SINCE', 'THE', '1500S,', 'WHEN', 'AN', 'UNKNOWN', 'PRINTER', 'TOOK', 'A', 'GALLEY', 'OF', 'TYPE', 'AND', 'SCRAMBLED', 'IT', 'TO', 'MAKE', 'A', 'TYPE', 'SPECIMEN', 'BOOK.']\n",
      "\n",
      "The list of words not containing 'A' is \n",
      " ['LOREM', 'IPSUM', 'IS', 'SIMPLY', 'DUMMY', 'TEXT', 'OF', 'THE', 'PRINTING', 'TYPESETTING', 'INDUSTRY.', 'LOREM', 'IPSUM', 'BEEN', 'THE', \"INDUSTRY'S\", 'DUMMY', 'TEXT', 'EVER', 'SINCE', 'THE', '1500S,', 'WHEN', 'UNKNOWN', 'PRINTER', 'TOOK', 'OF', 'TYPE', 'IT', 'TO', 'TYPE', 'SPECIMEN', 'BOOK.']\n",
      "\n",
      "The final generated string is\n",
      " LOREMIPSUMISSIMPLYDUMMYTEXTOFTHEPRINTINGTYPESETTINGINDUSTRY.LOREMIPSUMBEENTHEINDUSTRY'SDUMMYTEXTEVERSINCETHE1500S,WHENUNKNOWNPRINTERTOOKOFTYPEITTOTYPESPECIMENBOOK.\n"
     ]
    }
   ],
   "source": [
    "import functools\n",
    "\n",
    "f = open(\"textfile.txt\",'r')\n",
    "string = f.read()\n",
    "f.close()\n",
    "\n",
    "lst = string.split()\n",
    "print('The list generated is \\n', lst)\n",
    "\n",
    "lst = list((map(str.upper,lst)))\n",
    "print('\\nThe list converted to uppercase is \\n', lst)\n",
    "\n",
    "lst = list((filter(lambda x:'A' not in x,lst)))\n",
    "print('\\nThe list of words not containing \\'A\\' is \\n', lst)\n",
    "\n",
    "lst = functools.reduce(lambda x, y:x+y, lst)\n",
    "print('\\nThe final generated string is\\n', lst)"
   ]
  },
  {
   "cell_type": "markdown",
   "metadata": {},
   "source": [
    "### Problem 3"
   ]
  },
  {
   "cell_type": "code",
   "execution_count": 4,
   "metadata": {},
   "outputs": [
    {
     "name": "stdout",
     "output_type": "stream",
     "text": [
      "Example data from first file:\n",
      " [{'id': '100110001', 'name': 'La Défense / Château de Vincennes', 'shortName': 'M1', 'image': 'm1.gif'}, {'id': '100110002', 'name': 'Porte Dauphine / Nation', 'shortName': 'M2', 'image': 'm2.gif'}, {'id': '100110003', 'name': 'Pont de Levallois Bécon / Gallieni', 'shortName': 'M3', 'image': 'm3.gif'}, {'id': '100110103', 'name': 'Gambetta / Porte des Lilas', 'shortName': 'M3B', 'image': 'm3b.gif'}, {'id': '100110004', 'name': 'Mairie de Montrouge / Porte de Clignancourt', 'shortName': 'M4', 'image': 'm4.gif'}, {'id': '100110005', 'name': \"Place d'Italie / Bobigny Pablo Picasso\", 'shortName': 'M5', 'image': 'm5.gif'}, {'id': '100110006', 'name': 'Charles de Gaulle Etoile / Nation', 'shortName': 'M6', 'image': 'm6.gif'}, {'id': '100110007', 'name': \"Mairie d'Ivry - Villejuif Louis Aragon / La Courneuve 8 mai 1945\", 'shortName': 'M7', 'image': 'm7.gif'}, {'id': '100110107', 'name': 'Louis Blanc / Pré-St-Gervais', 'shortName': 'M7B', 'image': 'm7b.gif'}, {'id': '100110008', 'name': 'Pointe du Lac / Balard', 'shortName': 'M8', 'image': 'm8.gif'}]\n",
      "\n",
      "Example data from second file:\n",
      " [{'quote': 'You all know exactly who I am. Say my name.', 'author': 'Walter White'}, {'quote': 'Clearly, his taste in women is the same as his taste in lawyers.', 'author': 'Saul Goodman'}, {'quote': 'I am not in danger, Skyler. I AM the danger!', 'author': 'Walter White'}, {'quote': \"They're minerals, Marie! Jesus!\", 'author': 'Hank Schrader'}, {'quote': 'You do seem to have a little “shit creek” action going… You know, FYI, you can buy a paddle.', 'author': 'Saul Goodman'}, {'quote': 'Since when do vegans eat fried chicken?', 'author': 'Hank Schrader'}, {'quote': 'I did it for me. I liked it. I was good at it. And I was really... I was alive.', 'author': 'Walter White'}, {'quote': 'You two suck at peddling meth.', 'author': 'Saul Goodman'}, {'quote': 'F*ck you! And your eyebrows!', 'author': 'Walter White'}, {'quote': 'Shut the f*ck up and let me die in peace.', 'author': 'Mike Ehrmantraut'}]\n"
     ]
    }
   ],
   "source": [
    "import json\n",
    "import requests\n",
    "\n",
    "# API 1\n",
    "# Endpoint to get all the lines of a specific network on the Transport for Paris, France\n",
    "# Provided by the RATP Open Data API\n",
    "\n",
    "url1 = 'http://restratpws.azurewebsites.net/api/Lines/metro'\n",
    "response = requests.get(url1)\n",
    "\n",
    "data = json.loads(response.content.decode('utf-8'))\n",
    "print('Example data from first file:\\n', data[0:10])\n",
    "\n",
    "with open('data1.json', 'w') as outfile:\n",
    "    json.dump(data, outfile)\n",
    "    \n",
    "# API 2\n",
    "# Endpoint to get quotes from the TV show Breaking Bad\n",
    "# Provided by github user -> shevabam/breaking-bad-quotes\n",
    "\n",
    "url2 = 'https://breaking-bad-quotes.herokuapp.com/v1/quotes/50'\n",
    "response = requests.get(url2)\n",
    "\n",
    "data = json.loads(response.content.decode('utf-8'))\n",
    "print('\\nExample data from second file:\\n', data[0:10])\n",
    "\n",
    "with open('data2.json', 'w') as outfile:\n",
    "    json.dump(data, outfile)"
   ]
  },
  {
   "cell_type": "code",
   "execution_count": null,
   "metadata": {},
   "outputs": [],
   "source": []
  }
 ],
 "metadata": {
  "kernelspec": {
   "display_name": "Python 3",
   "language": "python",
   "name": "python3"
  },
  "language_info": {
   "codemirror_mode": {
    "name": "ipython",
    "version": 3
   },
   "file_extension": ".py",
   "mimetype": "text/x-python",
   "name": "python",
   "nbconvert_exporter": "python",
   "pygments_lexer": "ipython3",
   "version": "3.7.3"
  }
 },
 "nbformat": 4,
 "nbformat_minor": 2
}
